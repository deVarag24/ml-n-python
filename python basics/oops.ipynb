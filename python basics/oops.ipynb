{
 "cells": [
  {
   "cell_type": "markdown",
   "metadata": {},
   "source": [
    "## OOPs in Python"
   ]
  },
  {
   "cell_type": "markdown",
   "metadata": {},
   "source": [
    "### Class"
   ]
  },
  {
   "cell_type": "code",
   "execution_count": 2,
   "metadata": {},
   "outputs": [
    {
     "name": "stdout",
     "output_type": "stream",
     "text": [
      "<class '__main__.Car'>\n"
     ]
    }
   ],
   "source": [
    "class Car:# class define\n",
    "    pass\n",
    "\n",
    "bmw = Car() # bmw is object of class\n",
    "print(type(bmw))"
   ]
  },
  {
   "cell_type": "code",
   "execution_count": 6,
   "metadata": {},
   "outputs": [],
   "source": [
    "# Instance variable and methods\n",
    "\n",
    "class Person:\n",
    "    def __init__(self, name, age): #__init__ is a constructor\n",
    "        self.name = name # Instance variable\n",
    "        self.age = age # Instance variable\n",
    "     \n",
    "    def talk(self): # Instance method\n",
    "        print(f\"Hi, I am {self.name} and i am {self.age} years old.\")"
   ]
  },
  {
   "cell_type": "code",
   "execution_count": null,
   "metadata": {},
   "outputs": [
    {
     "name": "stdout",
     "output_type": "stream",
     "text": [
      "guy\n",
      "34\n",
      "Hi, I am guy and i am 34 years old.\n"
     ]
    }
   ],
   "source": [
    "p_1 = Person('guy', 34)\n",
    "\n",
    "print(p_1.name)\n",
    "print(p_1.age)\n",
    "p_1.talk()"
   ]
  },
  {
   "cell_type": "code",
   "execution_count": 9,
   "metadata": {},
   "outputs": [],
   "source": [
    "#Modeling Bank account\n",
    "\n",
    "class BankAcount:\n",
    "    def __init__(self, owner, balance = 0):\n",
    "        self.owner = owner\n",
    "        self.balance = balance\n",
    "    \n",
    "    def deposite(self, amount):\n",
    "        self.balance+=amount\n",
    "        print(f\"{amount} is deposited, and new balance is {self.balance}\")\n",
    "\n",
    "    def withdraw(self, amount):\n",
    "        if amount > self.balance:\n",
    "            print('Insufficient balance!')\n",
    "        else:\n",
    "            self.balance-=amount\n",
    "            print(f'{amount} is withdraw, new balance is {self.balance}')\n",
    "\n",
    "    def getBalance(self):\n",
    "        print(f'Your current balance is {self.balance}')"
   ]
  },
  {
   "cell_type": "code",
   "execution_count": null,
   "metadata": {},
   "outputs": [
    {
     "name": "stdout",
     "output_type": "stream",
     "text": [
      "Your current balance is 0\n",
      "1000 is deposited, and new balance is 1000\n",
      "20 is withdraw, new balance is 980\n",
      "Insufficient balance!\n",
      "Your current balance is 980\n"
     ]
    }
   ],
   "source": [
    "acc_1 = BankAcount('Joe')\n",
    "\n",
    "acc_1.getBalance()\n",
    "acc_1.deposite(1000)\n",
    "acc_1.withdraw(20)\n",
    "acc_1.withdraw(5000)\n",
    "acc_1.getBalance()"
   ]
  },
  {
   "cell_type": "markdown",
   "metadata": {},
   "source": [
    "## Inheritence"
   ]
  },
  {
   "cell_type": "code",
   "execution_count": 6,
   "metadata": {},
   "outputs": [],
   "source": [
    "# parent class\n",
    "\n",
    "class Car:\n",
    "    def __init__(self, windows, doors, engine_type):\n",
    "        self.windows = windows\n",
    "        self.doors = doors\n",
    "        self.engine_type = engine_type\n",
    "    \n",
    "    def drive(self):\n",
    "        print(f'drive {self.engine_type} car!')"
   ]
  },
  {
   "cell_type": "code",
   "execution_count": 7,
   "metadata": {},
   "outputs": [
    {
     "name": "stdout",
     "output_type": "stream",
     "text": [
      "drive petrol car!\n"
     ]
    }
   ],
   "source": [
    "car_1 = Car(4, 5, 'petrol')\n",
    "car_1.drive()"
   ]
  },
  {
   "cell_type": "code",
   "execution_count": 9,
   "metadata": {},
   "outputs": [],
   "source": [
    "class Tesla(Car): # Tesla is child class and Car is parent class\n",
    "    def __init__(self, windows, doors, engine_type, is_self_drive):\n",
    "        super().__init__(windows, doors, engine_type) # super() calling parent class\n",
    "        self.is_self_drive = is_self_drive\n",
    "    \n",
    "    def selfDriving(self):\n",
    "        if(self.is_self_drive):\n",
    "            print('this is self driving')\n",
    "        else:\n",
    "            print('this is not self driving')"
   ]
  },
  {
   "cell_type": "code",
   "execution_count": 11,
   "metadata": {},
   "outputs": [
    {
     "name": "stdout",
     "output_type": "stream",
     "text": [
      "drive electric car!\n",
      "this is self driving\n"
     ]
    }
   ],
   "source": [
    "tesla_1 = Tesla(4, 5, 'electric', True)\n",
    "tesla_1.drive()\n",
    "tesla_1.selfDriving()"
   ]
  },
  {
   "cell_type": "code",
   "execution_count": null,
   "metadata": {},
   "outputs": [
    {
     "name": "stdout",
     "output_type": "stream",
     "text": [
      "tiger say bhaw bhaw\n",
      "Owner: varnit\n"
     ]
    }
   ],
   "source": [
    "# Multiple inhertance\n",
    "\n",
    "# base class 1\n",
    "\n",
    "class Animal:\n",
    "    def __init__(self, name):\n",
    "        self.name = name\n",
    "    \n",
    "    def speak(self):\n",
    "        print('speaking...!')\n",
    "\n",
    "# base class 2\n",
    "\n",
    "class Pet:\n",
    "    def __init__(self, owner):\n",
    "        self.owner = owner\n",
    "\n",
    "# drive class\n",
    "\n",
    "class Dog(Animal, Pet):\n",
    "    def __init__(self, name, owner):\n",
    "        Animal.__init__(self, name)\n",
    "        Pet.__init__(self, owner)\n",
    "    \n",
    "    def speak(self):\n",
    "        print(f'{self.name} say bhaw bhaw')\n",
    "\n",
    "dog_1 = Dog('tiger', 'varnit')\n",
    "dog_1.speak()\n",
    "print(f'Owner: {dog_1.owner}')"
   ]
  },
  {
   "cell_type": "markdown",
   "metadata": {},
   "source": [
    "## Polymorphisam"
   ]
  },
  {
   "cell_type": "code",
   "execution_count": 2,
   "metadata": {},
   "outputs": [
    {
     "name": "stdout",
     "output_type": "stream",
     "text": [
      "Dog speak\n",
      "cat speaks\n"
     ]
    }
   ],
   "source": [
    "class Animal:\n",
    "    def speak(self):\n",
    "        print('animal speak')\n",
    "\n",
    "class Dog(Animal):\n",
    "    def speak(self):\n",
    "        print('Dog speak')\n",
    "\n",
    "class Cat(Animal):\n",
    "    def speak(self):\n",
    "        print('cat speaks')\n",
    "\n",
    "dog = Dog()\n",
    "dog.speak()\n",
    "cat = Cat()\n",
    "cat.speak()"
   ]
  },
  {
   "cell_type": "markdown",
   "metadata": {},
   "source": [
    "## Abstract base class"
   ]
  },
  {
   "cell_type": "code",
   "execution_count": 3,
   "metadata": {},
   "outputs": [
    {
     "name": "stdout",
     "output_type": "stream",
     "text": [
      "car started\n"
     ]
    }
   ],
   "source": [
    "from abc import ABC, abstractmethod\n",
    "\n",
    "# define abstract base class\n",
    "class Vehical(ABC):\n",
    "    @abstractmethod\n",
    "    def startEngine(self):\n",
    "        pass\n",
    "\n",
    "# derived classes\n",
    "\n",
    "class Car(Vehical):\n",
    "    def startEngine(self):\n",
    "        return 'car started'\n",
    "    \n",
    "car = Car()\n",
    "print(car.startEngine())"
   ]
  }
 ],
 "metadata": {
  "kernelspec": {
   "display_name": "Python 3",
   "language": "python",
   "name": "python3"
  },
  "language_info": {
   "codemirror_mode": {
    "name": "ipython",
    "version": 3
   },
   "file_extension": ".py",
   "mimetype": "text/x-python",
   "name": "python",
   "nbconvert_exporter": "python",
   "pygments_lexer": "ipython3",
   "version": "3.10.16"
  }
 },
 "nbformat": 4,
 "nbformat_minor": 2
}
