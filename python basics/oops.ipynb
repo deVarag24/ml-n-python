{
 "cells": [
  {
   "cell_type": "markdown",
   "metadata": {},
   "source": [
    "## OOPs in Python"
   ]
  },
  {
   "cell_type": "markdown",
   "metadata": {},
   "source": [
    "### Class"
   ]
  },
  {
   "cell_type": "code",
   "execution_count": 2,
   "metadata": {},
   "outputs": [
    {
     "name": "stdout",
     "output_type": "stream",
     "text": [
      "<class '__main__.Car'>\n"
     ]
    }
   ],
   "source": [
    "class Car:# class define\n",
    "    pass\n",
    "\n",
    "bmw = Car() # bmw is object of class\n",
    "print(type(bmw))"
   ]
  },
  {
   "cell_type": "code",
   "execution_count": 6,
   "metadata": {},
   "outputs": [],
   "source": [
    "# Instance variable and methods\n",
    "\n",
    "class Person:\n",
    "    def __init__(self, name, age): #__init__ is a constructor\n",
    "        self.name = name # Instance variable\n",
    "        self.age = age # Instance variable\n",
    "     \n",
    "    def talk(self): # Instance method\n",
    "        print(f\"Hi, I am {self.name} and i am {self.age} years old.\")"
   ]
  },
  {
   "cell_type": "code",
   "execution_count": null,
   "metadata": {},
   "outputs": [
    {
     "name": "stdout",
     "output_type": "stream",
     "text": [
      "guy\n",
      "34\n",
      "Hi, I am guy and i am 34 years old.\n"
     ]
    }
   ],
   "source": [
    "p_1 = Person('guy', 34)\n",
    "\n",
    "print(p_1.name)\n",
    "print(p_1.age)\n",
    "p_1.talk()"
   ]
  },
  {
   "cell_type": "code",
   "execution_count": 9,
   "metadata": {},
   "outputs": [],
   "source": [
    "#Modeling Bank account\n",
    "\n",
    "class BankAcount:\n",
    "    def __init__(self, owner, balance = 0):\n",
    "        self.owner = owner\n",
    "        self.balance = balance\n",
    "    \n",
    "    def deposite(self, amount):\n",
    "        self.balance+=amount\n",
    "        print(f\"{amount} is deposited, and new balance is {self.balance}\")\n",
    "\n",
    "    def withdraw(self, amount):\n",
    "        if amount > self.balance:\n",
    "            print('Insufficient balance!')\n",
    "        else:\n",
    "            self.balance-=amount\n",
    "            print(f'{amount} is withdraw, new balance is {self.balance}')\n",
    "\n",
    "    def getBalance(self):\n",
    "        print(f'Your current balance is {self.balance}')"
   ]
  },
  {
   "cell_type": "code",
   "execution_count": null,
   "metadata": {},
   "outputs": [
    {
     "name": "stdout",
     "output_type": "stream",
     "text": [
      "Your current balance is 0\n",
      "1000 is deposited, and new balance is 1000\n",
      "20 is withdraw, new balance is 980\n",
      "Insufficient balance!\n",
      "Your current balance is 980\n"
     ]
    }
   ],
   "source": [
    "acc_1 = BankAcount('Joe')\n",
    "\n",
    "acc_1.getBalance()\n",
    "acc_1.deposite(1000)\n",
    "acc_1.withdraw(20)\n",
    "acc_1.withdraw(5000)\n",
    "acc_1.getBalance()"
   ]
  }
 ],
 "metadata": {
  "kernelspec": {
   "display_name": "Python 3",
   "language": "python",
   "name": "python3"
  },
  "language_info": {
   "codemirror_mode": {
    "name": "ipython",
    "version": 3
   },
   "file_extension": ".py",
   "mimetype": "text/x-python",
   "name": "python",
   "nbconvert_exporter": "python",
   "pygments_lexer": "ipython3",
   "version": "3.10.16"
  }
 },
 "nbformat": 4,
 "nbformat_minor": 2
}
